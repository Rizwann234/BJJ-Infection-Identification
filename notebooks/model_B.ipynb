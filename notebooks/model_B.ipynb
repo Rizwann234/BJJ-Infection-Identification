{
 "cells": [
  {
   "cell_type": "code",
   "execution_count": 1,
   "metadata": {},
   "outputs": [],
   "source": [
    "# loading modules for creating models (Tensorflow/Keras Framework)\n",
    "import torch\n",
    "import torch.nn as nn\n",
    "import torchvision.models as models\n",
    "from torchvision import transforms, datasets\n",
    "from torch.utils.data import DataLoader\n",
    "from torchvision.datasets import ImageFolder"
   ]
  },
  {
   "cell_type": "code",
   "execution_count": 2,
   "metadata": {},
   "outputs": [
    {
     "name": "stderr",
     "output_type": "stream",
     "text": [
      "c:\\Users\\Rizwan\\anaconda3\\lib\\site-packages\\torchvision\\models\\_utils.py:208: UserWarning: The parameter 'pretrained' is deprecated since 0.13 and may be removed in the future, please use 'weights' instead.\n",
      "  warnings.warn(\n",
      "c:\\Users\\Rizwan\\anaconda3\\lib\\site-packages\\torchvision\\models\\_utils.py:223: UserWarning: Arguments other than a weight enum or `None` for 'weights' are deprecated since 0.13 and may be removed in the future. The current behavior is equivalent to passing `weights=AlexNet_Weights.IMAGENET1K_V1`. You can also use `weights=AlexNet_Weights.DEFAULT` to get the most up-to-date weights.\n",
      "  warnings.warn(msg)\n"
     ]
    }
   ],
   "source": [
    "# Loading pre-trained AlexNet model\n",
    "alexnet = models.alexnet(pretrained=True)\n",
    "\n",
    "# Free pre-trained layers\n",
    "for param in alexnet.parameters():\n",
    "    param.requires_grad = False"
   ]
  },
  {
   "cell_type": "code",
   "execution_count": 3,
   "metadata": {},
   "outputs": [],
   "source": [
    "# Mofidying final layer - classifier\n",
    "num_classes = 8\n",
    "alexnet.classifier[6] = nn.Linear(alexnet.classifier[6].in_features, num_classes)"
   ]
  },
  {
   "cell_type": "code",
   "execution_count": 4,
   "metadata": {},
   "outputs": [],
   "source": [
    "# Defining transofrmations of images\n",
    "transform = transforms.Compose([\n",
    "    transforms.Resize((227,227)), # Resize to input size of AlexNet\n",
    "    transforms.ToTensor(), # Convert image to PyTorch Tensors\n",
    "    transforms.Normalize(mean=[0.485, 0.456, 0.406], std=[0.229, 0.224, 0.225])  # Normalize based on ImageNet statistics\n",
    "])"
   ]
  },
  {
   "cell_type": "code",
   "execution_count": 6,
   "metadata": {},
   "outputs": [],
   "source": [
    "train_dataset = datasets.ImageFolder(root=r'..\\data\\train_set', transform=transform)\n",
    "test_dataset = datasets.ImageFolder(root=r'..\\data\\test_set', transform=transform)\n",
    "\n",
    "# Create data loaders to batch the data and shuffle it during training\n",
    "train_loader = DataLoader(train_dataset, batch_size=32, shuffle=True)\n",
    "test_loader = DataLoader(test_dataset, batch_size=32, shuffle=False)"
   ]
  },
  {
   "cell_type": "code",
   "execution_count": 7,
   "metadata": {},
   "outputs": [],
   "source": [
    "# Setting up loss and optimizer\n",
    "criterion = nn.CrossEntropyLoss()\n",
    "optimizer = torch.optim.Adam(alexnet.classifier[6].parameters(), lr=0.001) # Optimizer for training the classifying layer"
   ]
  },
  {
   "cell_type": "code",
   "execution_count": 9,
   "metadata": {},
   "outputs": [
    {
     "name": "stdout",
     "output_type": "stream",
     "text": [
      "Epoch 1, Loss: 0.35979492756827125\n",
      "Epoch 2, Loss: 0.22807887324999118\n",
      "Epoch 3, Loss: 0.17360469236456114\n",
      "Epoch 4, Loss: 0.13543009501079034\n",
      "Epoch 5, Loss: 0.11483474062948391\n",
      "Epoch 6, Loss: 0.08929663575414953\n",
      "Epoch 7, Loss: 0.07465894083524573\n",
      "Epoch 8, Loss: 0.075894292572449\n",
      "Epoch 9, Loss: 0.05817364753577216\n",
      "Epoch 10, Loss: 0.050236481530912994\n"
     ]
    }
   ],
   "source": [
    "num_epochs = 10\n",
    "\n",
    "for epoch in range(num_epochs):\n",
    "    alexnet.train() # Sets model to training mode\n",
    "    running_loss = 0.0\n",
    "\n",
    "    for inputs, labels in train_loader:\n",
    "        optimizer.zero_grad() # Clears previous gradients\n",
    "        outputs = alexnet(inputs) # Forward pass : compute the model output\n",
    "        loss = criterion(outputs, labels) # Compute the loss\n",
    "        loss.backward() # Backward pass : Compute gradients\n",
    "        optimizer.step() # Update model weights\n",
    "\n",
    "        running_loss += loss.item() # Accumulate loss for reporting\n",
    "    \n",
    "    print(f'Epoch {epoch+1}, Loss: {running_loss/len(train_loader)}')"
   ]
  },
  {
   "cell_type": "code",
   "execution_count": 16,
   "metadata": {},
   "outputs": [
    {
     "data": {
      "image/png": "[encoded data removed]",
      "text/plain": [
       "<Figure size 640x480 with 1 Axes>"
      ]
     },
     "metadata": {},
     "output_type": "display_data"
    }
   ],
   "source": [
    "epoch = list(range(10))\n",
    "losses = [0.35979492756827125, 0.22807887324999118, 0.17360469236456114, 0.13543009501079034, 0.11483474062948391, 0.08929663575414953, 0.07465894083524573, 0.075894292572449, 0.05817364753577216, 0.050236481530912994]\n",
    "\n",
    "import matplotlib.pyplot as plt\n",
    "plt.plot(epoch,losses)\n",
    "plt.xlabel('Epoch')\n",
    "plt.ylabel('Loss')\n",
    "plt.title('Loss Curve')\n",
    "plt.show()"
   ]
  },
  {
   "cell_type": "code",
   "execution_count": 10,
   "metadata": {},
   "outputs": [
    {
     "name": "stdout",
     "output_type": "stream",
     "text": [
      "Accuracy: 95.2991452991453%\n"
     ]
    }
   ],
   "source": [
    "alexnet.eval()  # Set the model to evaluation mode (no dropout, no gradient computation)\n",
    "correct = 0\n",
    "total = 0\n",
    "\n",
    "with torch.no_grad():  # No need to calculate gradients during evaluation\n",
    "    for inputs, labels in test_loader:\n",
    "        outputs = alexnet(inputs)\n",
    "        _, predicted = torch.max(outputs, 1)  # Get the index of the class with the highest probability\n",
    "        total += labels.size(0)\n",
    "        correct += (predicted == labels).sum().item()\n",
    "\n",
    "        loss = criterion(outputs, labels)\n",
    "        \n",
    "print(f'Accuracy: {100 * correct / total}%')"
   ]
  },
  {
   "cell_type": "code",
   "execution_count": 11,
   "metadata": {},
   "outputs": [
    {
     "name": "stdout",
     "output_type": "stream",
     "text": [
      "Accuracy: 99.0509059534081%\n"
     ]
    }
   ],
   "source": [
    "with torch.no_grad():  # No need to calculate gradients during evaluation\n",
    "    for inputs, labels in train_loader:\n",
    "        outputs = alexnet(inputs)\n",
    "        _, predicted = torch.max(outputs, 1)  # Get the index of the class with the highest probability\n",
    "        total += labels.size(0)\n",
    "        correct += (predicted == labels).sum().item()\n",
    "\n",
    "print(f'Accuracy: {100 * correct / total}%')"
   ]
  }
 ],
 "metadata": {
  "kernelspec": {
   "display_name": "base",
   "language": "python",
   "name": "python3"
  },
  "language_info": {
   "codemirror_mode": {
    "name": "ipython",
    "version": 3
   },
   "file_extension": ".py",
   "mimetype": "text/x-python",
   "name": "python",
   "nbconvert_exporter": "python",
   "pygments_lexer": "ipython3",
   "version": "3.10.14"
  }
 },
 "nbformat": 4,
 "nbformat_minor": 2
}
